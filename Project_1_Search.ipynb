{
  "nbformat": 4,
  "nbformat_minor": 0,
  "metadata": {
    "colab": {
      "name": "Project 1 - Search.ipynb",
      "provenance": [],
      "collapsed_sections": [
        "65F-jXa1BjUx"
      ],
      "include_colab_link": true
    },
    "kernelspec": {
      "name": "python3",
      "display_name": "Python 3"
    },
    "language_info": {
      "name": "python"
    }
  },
  "cells": [
    {
      "cell_type": "markdown",
      "metadata": {
        "id": "view-in-github",
        "colab_type": "text"
      },
      "source": [
        "<a href=\"https://colab.research.google.com/github/KAmbuske02/cis490/blob/main/Project_1_Search.ipynb\" target=\"_parent\"><img src=\"https://colab.research.google.com/assets/colab-badge.svg\" alt=\"Open In Colab\"/></a>"
      ]
    },
    {
      "cell_type": "markdown",
      "source": [
        "# Project 1 - __*SEARCH*__ (150 pts total)\n",
        "\n",
        "<font color=\"red\">__*PLEASE:* YOU MUST WRITE YOUR OWN CODE, YOU MAY NOT SHARE CODE, YOU CAN DISCUSS WITH EACH OTHER, YOU CAN USE ANY RESOURCE ON THE INTERNET__</font>❗\n",
        "\n",
        "<img src=\"https://img.freepik.com/free-vector/black-robot-holding-magnifying-glass-data-search-artificial-intelligence_48369-37442.jpg?size=338&ext=jpg\" width=200>\n",
        "\n",
        "Trying to find an optimal strategy for an agent can be viewed as a search through a [**space**](https://www.youtube.com/watch?v=BVn1oQL9sWg&t=44s) of possible solutions. For example, one type of open loop solution in MountainCar\n",
        "that we discussed, involved:\n",
        "\n",
        "  * First going left (i.e. reverse or action = 0) for a fixed number of steps (*num_left*).\n",
        "  * Then, going right (action = 2) until done\n",
        "\n",
        "The search space in this case becomes a one dimensional search for the ideal number of left steps to take (**num_left**) before going right. In other words, the problem is: find the *optimal* **num_left**, where optimal means it gets the car to the flag in the lowest number of steps on average.  \n",
        "\n",
        "Because the MountainCar environment has a random element (i.e. the car starts in a slightly random position near the bottom of the hill), we would need to test each option of **num_left** several times in order to calculate an average. In problems where a large number of steps can be easily done, we can simply use a **brute force** - style of search, i.e. try every possible solution to find the best.\n",
        "\n",
        "When the problem is such that it is too computationally intensive to perform a brute force search in a reasonable amount of time, we can use a variety of **local search** algorithms. **local search** refers generally to the concept that you evaluate a single point in the solution space, (the first point is usually random, lets call it Solution zero, or $S_0$), then take a next step to a new spot in the solution space (lets call it $S_1$) that is *fairly* close (i.e. local) to the spot you were just at. By *evaluate* we mean calculate or estimate some cost or benefit. For MountainCar, the cost is the number of steps (i.e. delay) that it takes for the car to reach the flag. For some problems, there is a direct formula for evaluating the cost as well as the slope of the cost with respect to one of the variables. There is no such formula for MountainCar, we are at the mercy of running the simulation environment serveral times to evaluate the average delay for a givein solution, and have no direct way to calcuate how muuch the delay will go down or up if we increase or decreate the number of left steps from a solution we just evaluated. In these types of problems, we typically use **randomized local search**, that is, sthe next step we take in searching the solution space ($S_{t+1}$, where t is time, t+1 is the next step) is to take a random step in a random direction. If the new solution space spot $S+{t+1}$ is better than the last $S_t$, we continue along this \"path\", and take the next next random step $S_{t+2}$ a random step away from $S_{t+1}$. If the new spot $S_{t+1}$ is worse than $S_t$, we \"go back\" to $S_t$ and try a new random step $S_{t+1'}$ (note the prime)in the solution space. **hill climbing** is the general term for accepting a new step if it is better than the last. \n",
        "\n",
        "One particularly intersting randomized local search technique is analogized with the process of *annealing metal*, i.e heating up metal and slowly cooling it down to encourage a *lower-energy, more-stable state* in which crystallization with a low number of deformtities is encouraged. In **simulated annealing**, we modify hill climbing such that, if the next solution $S_{t+1}$ evaluated is worse than the last $S_{t}$, we flip a loaded coin to decide if we accept the worse solution $S_{t+1}$ and continue the search from there, or go back to the previous better solution $S_{t}$.\n",
        "\n",
        "<img src=\"https://encrypted-tbn0.gstatic.com/images?q=tbn:ANd9GcS1L50SeRkXL_rL21NWTQ_yTP1reDLi5okSnkGag_aO4umzpMfdck9mnpGNKngswXz-udc&usqp=CAU\">"
      ],
      "metadata": {
        "id": "dNSc4S5MZp1G"
      }
    },
    {
      "cell_type": "markdown",
      "source": [
        "###Part I QUESTIONS (50 pts)\n",
        "\n",
        "For each, please give a one sentence answer.\n",
        "\n",
        "**What are the differences from breadth-first search and depth-first search?** Breadth-first search starts from the top node and works its way down, whereas Depth-first search searches as far down a node line as it can before backtracking.\n",
        "\n",
        "**What is brute force search?** Brute force search is trying every possible candidate for a solution until it finds the best/right one.\n",
        "\n",
        "**What is hill climbing?** Hill climbing is a search algorithm that continuously moves \"upward\" until it finds the \"peak\"\n",
        "\n",
        "**What is beam search?** Beam search searches for the best candidate nodes, looks into those nodes, picks the best candidates from those nodes and so on.\n"
      ],
      "metadata": {
        "id": "65F-jXa1BjUx"
      }
    },
    {
      "cell_type": "markdown",
      "source": [
        "###Part II - Brute force search of 1d in Mountain Car (25pts)::\n",
        "\n"
      ],
      "metadata": {
        "id": "sGUvilz2WUW7"
      }
    },
    {
      "cell_type": "code",
      "execution_count": null,
      "metadata": {
        "colab": {
          "base_uri": "https://localhost:8080/",
          "height": 279
        },
        "id": "yXv6kHBxWPRF",
        "outputId": "838728da-e997-46f9-c40a-c6d49a492143"
      },
      "outputs": [
        {
          "output_type": "display_data",
          "data": {
            "image/png": "[encoded data removed]",
            "text/plain": [
              "<Figure size 432x288 with 1 Axes>"
            ]
          },
          "metadata": {
            "needs_background": "light"
          }
        }
      ],
      "source": [
        "# brute force search of one type of MountainCar agent: an\n",
        "# agent that goes a number of lefts first, then right until done\n",
        "import gym\n",
        "import matplotlib.pyplot as plt  # This import is for plotting (2d graph)\n",
        "\n",
        "num_repeats = 1000  # The number of times gym env is run for each search point\n",
        "search_space = list(range(25,50))  # All potential #lefts before going right\n",
        "avg_score_list = [] \n",
        "\n",
        "env = gym.make(\"MountainCar-v0\")\n",
        "\n",
        "for num_lefts in search_space:\n",
        "  #print('#lefts = ', num_lefts, end='')\n",
        "  result_list = []\n",
        "  for iteration in range(num_repeats):\n",
        "    observation = env.reset()\n",
        "    step_i = 0  # use this variable as a counter for each step taken\n",
        "    while True:    \n",
        "      if step_i < num_lefts:\n",
        "        action = 0\n",
        "      else:\n",
        "        action = 2\n",
        "      observation, reward, done, info = env.step(action) \n",
        "      step_i = step_i + 1\n",
        "\n",
        "      # if car reaches the flag, exit the loop\n",
        "      if done: \n",
        "        break;\n",
        "    result_list.append(step_i)\n",
        "  score = sum(result_list)/num_repeats\n",
        "  #print(', avg score=', score)\n",
        "  avg_score_list.append(score)\n",
        "env.close()\n",
        "\n",
        "# The following code is for making a plot of score vs. # lefts\n",
        "plt.plot(search_space, avg_score_list)\n",
        "plt.xlabel('Search Space (# lefts taken before going right)')\n",
        "plt.ylabel('avg # steps until done')\n",
        "plt.grid()\n",
        "plt.show()"
      ]
    },
    {
      "cell_type": "markdown",
      "source": [
        "1. Explain what is going on in the figure above. Be sure to answer:\n",
        "  * What is the program doing generally?\n",
        "    * Answer: The program is running the mountain car simulation 10 times for each amount of steps to go left first. So the first 10 simulations, the mountain car goes left for only one step, then goes right for the rest of the sim and records the total nuber of steps taken. The next 10 simulations, the car will go left for two steps, then go right, and so on. Eventually we get a graph that shows the number of steps taken to reach the goal, cross-referenced with the number of steps taken to the left first. \n",
        "  * Why does it look so noisy?\n",
        "    * Answer: The graph looks \"noisy\" because the program took a relatively small number of simulations for each step value, only 10 per step. Less data makes a noisier graph.\n",
        "  * How can you make it look less noisy?\n",
        "    * Answer: We could make this graph less noisy by increasing the number of simulations per steps to the left, like 100 or 1000 instead of 10. This would most likely smooth the graph out.\n",
        "  * How can you speed up the evaluation?\n",
        "    * Answer: \n",
        "    1. Use a different programming language since python is typically slower\n",
        "    2. Take a smaller number of simulations per steps to the left, so you are running less simulations overall\n",
        "    3. Choose a certain range of steps to the left to simulate based on previous results. If there are ranges where the car never seems to reach the goal, then don't simulate those and this will speed up the evaluation\n",
        "\n",
        "1. Modify the code in the cell above so that it uses 1000 repeats at each search point (i.e. each value for num_lefts), and limits the search to the range of only 25 to 50 num_lefts.  \n",
        "\n",
        "1. Rerun the code with your changes and answer the following:\n",
        "  * What did you learn from the modifications?\n",
        "    * Answer: We now have a bell-shaped curve showing the results for each number of steps to the left. It appears that the fastest results are achieved when the car goes left for the first 35 to 42 steps. This is a more accurate average as well because we ran 1000 simulations for each number of steps to the left (25-50) instead of just 10 simulations.\n",
        "  * What were the benefits and disadvantages of your changes?\n",
        "  * **Benefits:** We have a more accurate representation of the average number of steps to reach the goal for each number of steps to the left first. The information is more reliable and outlines an area where the best performance can be expected.\n",
        "\n",
        "  * **Disadvantages:** We could only see results for moving the car to the left between the first 25 and 50 steps, so we don't have a  representation of ALL possible values to move to the left and their average time-step results.\n",
        "\n",
        "  * Do you think its possible to find a better **agent** (i.e. not a better search method)? If so, how does it operate?\n",
        "    * Answer: There could be a better agent. A closed loop agent would be able to \"see\" its environment and choose directions to go based on its position and velocity. This could make the agent adapt to every unique scenario and increase the speed at which it reaches its goal every time.\n",
        "\n",
        "\n"
      ],
      "metadata": {
        "id": "5M_haolEnpRZ"
      }
    },
    {
      "cell_type": "markdown",
      "source": [
        "###**Part III - Hill-climbing (25pts)**\n",
        "\n",
        "The following cell performs a randomized local search of the num_left space for agents of the type that go left for num_lefts and then go right until done. Think of each value of num_lefts as a point in the search space.\n",
        "\n",
        "####**Picking the next search point**\n",
        "The code randomly selects between either +1 and -1 for the next spot to evaluate. For example, if the code just finished evaluating num_lefts = 20, the next value of num_lefts to evaluate will be randomly picked between 19 and 21.\n",
        "\n",
        "####**Deciding whether to use the next search point**\n",
        "If the next search point results in a better (lower) score, the search will continue from the next point. If it is not better, the code will \"go back\" to the last value of num_lefts and try to randomly pick a search point again.\n",
        "\n",
        "####**Deciding when to stop**\n",
        "If the last 5 attempts of picking a next search point fail (i.e. result in a lower score than the current point), the search will stop.\n",
        "\n",
        "1. Modify the code below so that the search point is randomly selected from +3, +2, +1, -1, -2, or -3 from the current point. Run the code after the change. \n",
        "\n",
        "1. Modfiy the code so that instead of always rejecting a new point that results in a worse, you unstead flip a coin, and 50% of the time, accept it as the next new point. Run the code after this change.\n",
        "\n",
        "1. Answer the following questions:  \n",
        "  * How does the performance of each version of code compare? Is it what you expect?\n",
        "\n",
        "    The performance increased with each change in code. We gave the hill climb search more opportunities to escape a local min or max and chose to sometimes flip a coin on where to go next, allowing more area to be covered and yield better results.\n",
        "\n",
        "  * In search problems, there is often a tradeoff of chances of finding a better/best solution vs. the amount of time you spend (yielding yet another type of optimization problem of optimizing bang for buck of computing. Which parameters or techniques can you adjust to adjust this bang for buck?\n",
        "  \n",
        "    You can narrow your search to less overall checks to decrease time taken, but this would also decrease the reliability of your results. The more checks you want to do, the longer it will take to perform the search. You could narrow the search instead by checking a vast amount of points but then ending the search when the same point is checked an overall less amount of times, say a mximum of 3 checks per point."
      ],
      "metadata": {
        "id": "l774ib_mcF0D"
      }
    },
    {
      "cell_type": "code",
      "source": [
        "import gym\n",
        "import matplotlib.pyplot as plt  # This import is for plotting\n",
        "import random\n",
        "import numpy as np\n",
        "\n",
        "def pick_next_point(current_point):\n",
        "  deltas = [-3,-2,-1,1,2,3]\n",
        "  next_point = current_point + random.choice(deltas)\n",
        "  if next_point < 25:\n",
        "    next_point = 25\n",
        "  if next_point > 55:\n",
        "    next_point = 55\n",
        "  return next_point\n",
        "\n",
        "def eval_point(num_lefts, num_repeats, env):\n",
        "  \"\"\"Evaluates and returns the average delay until done when using num_lefts. \n",
        "  \"\"\"\n",
        "  result_list = []\n",
        "  for iteration in range(num_repeats):\n",
        "    observation = env.reset()\n",
        "    step_i = 0  # use this variable as a counter for each step taken\n",
        "    while True:    \n",
        "      if step_i < num_lefts:\n",
        "        action = 0\n",
        "      else:\n",
        "        action = 2\n",
        "      observation, reward, done, info = env.step(action) \n",
        "      step_i = step_i + 1\n",
        "\n",
        "      # if car reaches the flag, exit the loop\n",
        "      if done: \n",
        "        break;\n",
        "    result_list.append(step_i)\n",
        "\n",
        "  score = sum(result_list)/num_repeats\n",
        "  return score\n",
        "\n",
        "\n",
        "#---------------------------------------\n",
        "avg_score_list = [] \n",
        "\n",
        "env = gym.make(\"MountainCar-v0\")\n",
        "\n",
        "# randomly pick an starting value for num_lefts\n",
        "num_lefts = int(random.random()*100)\n",
        "search_complete = False\n",
        "num_repeats_for_eval = 50\n",
        "max_search_iter = 100\n",
        "score = eval_point(num_lefts, num_repeats_for_eval, env)\n",
        "\n",
        "search_i = 0\n",
        "while not search_complete:\n",
        "  #pick next point\n",
        "  last_num_lefts = num_lefts\n",
        "  last_score = score\n",
        "  num_lefts = pick_next_point(num_lefts)\n",
        "  print('search iter#', search_i, end='')\n",
        "  print('  current #lefts = ', num_lefts)\n",
        "\n",
        "  #evaluate this point\n",
        "  score = eval_point(num_lefts, num_repeats_for_eval, env)\n",
        "  print(', avg score=', score)\n",
        "  avg_score_list.append([num_lefts, score])\n",
        "  \n",
        "  #acceptance or rejection\n",
        "  if (score > last_score):\n",
        "    #if new point is worse than last point, flip a coin \n",
        "    x = random.randint(0,1)\n",
        "    if x == 0:\n",
        "      num_lefts = last_num_lefts\n",
        "\n",
        "  # evaluate if it is time to stop\n",
        "  search_i += 1\n",
        "  if search_i >= max_search_iter:\n",
        "    search_complete = True\n",
        "env.close()\n",
        "\n",
        "print(avg_score_list)\n",
        "avg_score = np.array(avg_score_list)\n",
        "# The following code is for making a plot of score vs. # lefts\n",
        "plt.scatter(avg_score[:,0], avg_score[:,1])\n",
        "plt.xlabel('Search Space (# lefts taken before going right)')\n",
        "plt.ylabel('avg # steps until done')\n",
        "plt.grid()\n",
        "plt.show()"
      ],
      "metadata": {
        "id": "Zh5nOsVjntEW"
      },
      "execution_count": null,
      "outputs": []
    },
    {
      "cell_type": "code",
      "source": [
        "#Random Number Generator, returns either 0 or 1\n",
        "x = random.randint(0,1)\n",
        "print(x)"
      ],
      "metadata": {
        "id": "y8-6Z2HXqItZ",
        "outputId": "401f88ed-2082-45ac-8f34-efb63ef0971c",
        "colab": {
          "base_uri": "https://localhost:8080/"
        }
      },
      "execution_count": null,
      "outputs": [
        {
          "output_type": "stream",
          "name": "stdout",
          "text": [
            "1\n"
          ]
        }
      ]
    },
    {
      "cell_type": "markdown",
      "source": [
        "Search - Steepest decent/Hill-climbing"
      ],
      "metadata": {
        "id": "La4_AMNRYq1r"
      }
    },
    {
      "cell_type": "markdown",
      "source": [
        "##Part IV - Adversarial Search (50pts)##\n",
        "\n",
        "An **adversarial search** is a search in a game in which there are multiple adversaries, such as tic tac toe, chess, backgammon, go, as well as games with more than two opponents, such as chinese checkers or risk.\n",
        "\n",
        "The **MiniMax Strategy** (aka MinMax and MaxiMin)\n",
        "is a agent and search strategy used not only in AI, but also game theory, which assumes the opponent will play a perfect next move, so the agent should play the next move which minimizes the opponent's best possible outcome. In other words, when it is the agent's turn, it must search ahead at least the next two moves, and pick the move that gives the opponent the worst best option. (Please take a moment to think about that and make sure you understand).\n",
        "\n",
        "\n",
        "###Tic Tac Toe\"\n",
        "\n",
        "\n",
        "1. (0pts) Run the code to see how the random_agent performs. Be sure to read the random_agent function and understand it.\n",
        "2. (25 pts) Finish implementing the function agent1, the look ahead 1 move agent. Take note of the performance provided by the eval functions.\n",
        "3. (25 pts) Finish implememting the function agent2, the look ahead by 2 minimax strategy. \n",
        "\n",
        "If you can't get the code working, provide an explanation of how you expect it should work and what you expect the results to be. If you get it working (and it is right, you get full credit). However, if there is a bug, in order to maximize your chances of partial credit, you can also add an explanation of how you think it should work and whether the results are what you expect."
      ],
      "metadata": {
        "id": "BMFisoMzYfL-"
      }
    },
    {
      "cell_type": "code",
      "source": [
        "# This code implements the TIC TAC TOE engine as well as a random_agent,\n",
        "# and code to run it over and over in order to evaluate it. You don't have to \n",
        "# read and understand all the code, but you should at least read the function\n",
        "# names, arguments, and each function's \"\"\" \"\"\" comments.\n",
        "import random\n",
        "\n",
        "# the 3-in-a-row cell combinations that result in a win\n",
        "WINS = ((0,1,2),(3,4,5),(6,7,8),(0,3,6),(1,4,7),(2,5,8),(0,4,8),(2,4,6))\n",
        "\n",
        "def valid_next_moves(board):\n",
        "  \"\"\"Returns a list of valid next moves given the board_state. \n",
        "  - Cells are referred by their 0-8 index (i.e. not 1-9). For example\n",
        "  - if the board is empty, it will return [0,1,2,3,4,5,6,7,8]. \"\"\"\n",
        "  moves_list = []\n",
        "  # cycle through all the cells. If it is empty, add i to moves_list\n",
        "  for i in range(9):\n",
        "    if board[i] == '-':\n",
        "      moves_list.append(i)\n",
        "  return moves_list\n",
        "\n",
        "def get_x_cells(board):\n",
        "  \"\"\"Returns a list of cells that have X's in them.\"\"\"\n",
        "  return [i for i,v in enumerate(board) if v=='X']\n",
        "\n",
        "def get_o_cells(board):\n",
        "  \"\"\"Returns a list of cells that have O's in them.\"\"\"\n",
        "  return [i for i,v in enumerate(board) if v=='O']\n",
        "  \n",
        "def is_x_winner(board):\n",
        "  \"\"\"Returns True if there are three X's in a row, otherwise False\"\"\"\n",
        "  x_cells = get_x_cells(board)\n",
        "  \n",
        "  for win in WINS:\n",
        "    if len(set(win) & set(x_cells)) == 3:\n",
        "      return True\n",
        "  return False\n",
        "\n",
        "def is_o_winner(board):\n",
        "  \"\"\"Returns True if there are three O's in a row, otherwise False\"\"\"\n",
        "  o_cells = get_o_cells(board)\n",
        "  \n",
        "  for win in WINS:\n",
        "    if len(set(win) & set(o_cells)) == 3:\n",
        "      return True\n",
        "  return False\n",
        "\n",
        "def is_game_over(board):\n",
        "  \"\"\" Returns 'X' if X won; 'O' if O won; 'CAT' if Cat's game, otherwise False. \n",
        "  \"\"\"\n",
        "  if is_x_winner(board):\n",
        "    return 'X'\n",
        "  elif is_o_winner(board):\n",
        "    return 'O'\n",
        "  elif valid_next_moves(board) == []:\n",
        "    return \"CAT\"\n",
        "  else:\n",
        "    return False\n",
        "\n",
        "# RANDOM AGENT\n",
        "def random_agent(board):\n",
        "  \"\"\" Returns a random move out of valid next moves.\n",
        "  If no moves are left, produces an assertion error \"\"\"\n",
        "  moves = valid_next_moves(board)\n",
        "  if moves == []:\n",
        "    assert(False)\n",
        "  else:\n",
        "    return random.choice(moves)\n",
        "\n",
        "   \n",
        "\n",
        "def play(x_agent, o_agent):\n",
        "  \"\"\" Plays one game of tic_tac_toe calling the x_agent on x's turns and the \n",
        "  o_agent on o's turns.\n",
        "  Returns: \n",
        "    (winner, move_history, board_state)\n",
        "  where winner is one of {'X','O','CAT'}, move_history is a list of move\n",
        "  indices as they were played, and board_state is a list of the final board \n",
        "  contents. \n",
        "  \"\"\"\n",
        "  board_state = ['-']*9 # beginning empty board\n",
        "  move_history = []     # this list will keep track of all moves\n",
        "  while not is_game_over(board_state):\n",
        "    if (len(move_history) % 2) == 0:\n",
        "      next_move = x_agent(board_state)\n",
        "      board_state[next_move] = 'X'\n",
        "    else:\n",
        "      next_move = o_agent(board_state)\n",
        "      board_state[next_move] = 'O'\n",
        "    move_history += [next_move]\n",
        "\n",
        "  #You can uncomment any of the print statements to help debug your agent code.\n",
        "  #print('Game Over')\n",
        "  winner = is_game_over(board_state)\n",
        " # print('Winner is: ', winner)\n",
        " # print(str(board_state[0:3]))\n",
        " # print(str(board_state[3:6]))\n",
        " # print(str(board_state[6:9]))\n",
        " # print(move_history)\n",
        "  return (winner, move_history, board_state)\n",
        "\n",
        "def eval(x_agent,o_agent):\n",
        "  \"\"\"Runs 100 games with the designated agents and prints the number of wins \n",
        "  for x, o, and cat. \n",
        "  \"\"\"\n",
        "  x_wins, o_wins, cat_wins = 0, 0, 0\n",
        "  for i in range(100):\n",
        "    winner = play(x_agent, o_agent)[0] #the 0th list item returned is the winner\n",
        "    if(winner == 'X'):\n",
        "      x_wins += 1\n",
        "    elif(winner == 'O'):\n",
        "      o_wins += 1\n",
        "    elif(winner == 'CAT'):\n",
        "      cat_wins += 1\n",
        "    else:\n",
        "      assert(False)  # something bad happened if there is no winner\n",
        " # print('wins:')\n",
        "  print(' x:', x_wins) \n",
        "  print(' o:', o_wins)\n",
        "  print(' c:', cat_wins)\n",
        "\n",
        "\n",
        "eval(random_agent, random_agent)"
      ],
      "metadata": {
        "id": "4wibbzgUWtbK"
      },
      "execution_count": null,
      "outputs": []
    },
    {
      "cell_type": "code",
      "source": [
        "# TODO: finish implementing agent1, it currently just selects first valid move\n",
        "def agent1(board):\n",
        "  \"\"\"Cycles through all valid moves for the current board. If one results in a \n",
        "  win, it will return that move, otherwise, it will randomly pick a move. \"\"\"\n",
        "  moves = valid_next_moves(board)\n",
        "  if moves == []:\n",
        "    assert(False)\n",
        "\n",
        "  # check to see if it is X's turn or O's turn\n",
        "  if len(moves)%2:\n",
        "    player, opponent = 'X', 'O'\n",
        "    i_am_winner = is_x_winner\n",
        "  else:\n",
        "    player, opponent = 'O', 'X'\n",
        "    i_am_winner = is_o_winner\n",
        "\n",
        "  best_move = moves[0] # temporarily pick first valid move\n",
        "\n",
        "  # TODO: INSERT BELOW!!!\n",
        "  #If the next move is a win, choose that move\n",
        "  for move in moves:\n",
        "    test_board = board.copy()\n",
        "    # have player move into cell # move by modifying test_board\n",
        "    test_board[move] = player\n",
        "    if i_am_winner(test_board):\n",
        "      return move\n",
        "\n",
        "  #return random move if none result in a win\n",
        "      return random.choice(moves)\n",
        "\n",
        "\n",
        "\n",
        "  # HINTS: use a for loop, use the function i_am_winner(), use a temporary\n",
        "  # game board with the current move being evaluated added. A copy of the list\n",
        "  # can be made using the list.copy() function:\n",
        "  #   test_board = board.copy()\n",
        "  # When you find a winning move, return it immediately rather than continuing\n",
        "  # looping. \n",
        "  # TODO: INSERT ABOVE HERE!!!\n",
        "\n",
        "  return best_move\n",
        "\n",
        "eval(agent1, random_agent)\n",
        "eval(random_agent, agent1)"
      ],
      "metadata": {
        "id": "NlETmRvmMDKy",
        "outputId": "6e5e831a-ed7b-443b-da28-bb48c3fa5d44",
        "colab": {
          "base_uri": "https://localhost:8080/"
        }
      },
      "execution_count": null,
      "outputs": [
        {
          "output_type": "stream",
          "name": "stdout",
          "text": [
            " x: 89\n",
            " o: 11\n",
            " c: 0\n",
            " x: 38\n",
            " o: 62\n",
            " c: 0\n"
          ]
        }
      ]
    },
    {
      "cell_type": "code",
      "source": [
        "# TODO, finish evaluating agent2, it currently just selects first valid move\n",
        "def agent2(board):\n",
        "  \"\"\"A minimal implementation of minimax strategy looking two moves ahead.\n",
        "  If a next move results in a win, it is returned. Otherwise, for each\n",
        "  player move, it will evaluate if the opponent can win. If there is a move\n",
        "  which doesn't allow the opponent to win, it will be selected.\n",
        "  \"\"\"\n",
        "  moves = valid_next_moves(board)\n",
        "  if moves == []:\n",
        "    assert(False)\n",
        "  if len(moves)%2:\n",
        "    player, opponent = 'X', 'O'\n",
        "    player_is_winner = is_x_winner\n",
        "    opponent_is_winner = is_o_winner\n",
        "  else:\n",
        "    player, opponent = 'O', 'X'\n",
        "    player_is_winner = is_o_winner\n",
        "    opponent_is_winner = is_x_winner\n",
        "\n",
        "  # for each valid move, hold's opponents best score\n",
        "  move_opponent_score_dict = {} \n",
        "\n",
        "  worst_move_for_opponent = moves[0] # temporarily pick first valid move\n",
        "\n",
        "  # TODO: INSERT CODE BELOW\n",
        "   #If the next move is a win, choose that move\n",
        "  for move in moves:\n",
        "    test_board = board.copy()\n",
        "    # have player move into cell # move by modifying test_board\n",
        "    test_board[move] = player\n",
        "    if player_is_winner(test_board):\n",
        "      return move\n",
        "\n",
        "    for move in moves:\n",
        "      test_board = board.copy()\n",
        "      test_board[move] = opponent\n",
        "      if opponent_is_winner(test_board):\n",
        "        return move\n",
        "  # HINTS: use a for loop within a for loop. The outer for loop will cycle\n",
        "  # over player moves, the inner for loop cycles over opponent moves possible\n",
        "  # after the current selected player move.\n",
        "  # Only keep track of two types of score for the opponent (1 for opponent win,\n",
        "  # 0 otherwise)\n",
        "  #return move with lowest opponent score\n",
        "  # TODO: INSERT CODE ABOVE\n",
        "  return worst_move_for_opponent\n",
        "\n",
        "\n",
        "eval(agent2, random_agent)\n",
        "eval(random_agent, agent2)"
      ],
      "metadata": {
        "id": "Dk__w7ZERwCj",
        "outputId": "6572438d-5fb7-4be4-bbcf-3a9ef7cf0d5c",
        "colab": {
          "base_uri": "https://localhost:8080/"
        }
      },
      "execution_count": null,
      "outputs": [
        {
          "output_type": "stream",
          "name": "stdout",
          "text": [
            " x: 87\n",
            " o: 5\n",
            " c: 8\n",
            " x: 11\n",
            " o: 63\n",
            " c: 26\n"
          ]
        }
      ]
    },
    {
      "cell_type": "markdown",
      "source": [
        "FOR AGENT 2:\n",
        "\n",
        "I don't believe I coded this agent properly, *however*:\n",
        "\n",
        "When agent2 goes first it almost always wins (expected). When the random_agent goes first, agent2 wins around 70% of the time(expected). I would expect to see an overall increase in games that end in a draw when random_agent goes first, since agent2 will block the random_agent from winning whenever it can. This is indeed shown in the results with up to approx. 25% of games ending in draws when the random_agent goes first."
      ],
      "metadata": {
        "id": "nwbm5abm9Bg1"
      }
    },
    {
      "cell_type": "markdown",
      "source": [
        "#How to submit your project:\n",
        "\n",
        "1. Please change the name of the project to *your name, project 1*:\n",
        "  * for example:  \n",
        "    *  Taylan Sen, Project 1.ipynb\n",
        "1. Download the file as a ipynb file. Then upload it to canvas.\n",
        "\n",
        "Please remember, you can discuss the project amongst yourselves, but you must not copy and paste nor directly copy code from each other."
      ],
      "metadata": {
        "id": "juE2CRdvVyBg"
      }
    },
    {
      "cell_type": "code",
      "source": [
        "# Here is some test code I used that you are welcom to repurpose\n",
        "\n",
        "def test_is_x_winner():\n",
        "  assert(is_x_winner(['X']*9))\n",
        "  assert(not is_x_winner(['O']*9))\n",
        "  assert(is_x_winner(['X', 'X', 'X', 'O','O','O','-','-','O']))\n",
        "  assert(not is_x_winner(['X', 'X', 'O', 'O','O','O','-','-','O']))\n",
        "\n",
        "def test_is_game_over():\n",
        "  assert(is_game_over(['X']*9) == 'X')\n",
        "  assert(is_game_over(['O']*9) == 'O')\n",
        "  assert(is_game_over(['-']*9) == False)\n",
        "  assert(is_game_over(['X', 'X', 'X', 'O','O','O','-','-','O']) == 'X')\n",
        "  assert(is_game_over(['X', 'X', 'O', 'O','O','O','-','-','O']) == 'O')\n",
        "  assert(is_game_over(['X', 'O', 'O',   'O','X','X',  'X','O','O']) == 'CAT')\n",
        "  assert(is_game_over(['X', 'X', 'O',   '-','O','O',  'X','O','X']) == False)\n",
        "\n",
        "test_is_x_winner()\n",
        "test_is_game_over()\n",
        "\n"
      ],
      "metadata": {
        "id": "o0gxX9G0UOhb"
      },
      "execution_count": null,
      "outputs": []
    }
  ]
}